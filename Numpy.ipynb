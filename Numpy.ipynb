{
  "nbformat": 4,
  "nbformat_minor": 0,
  "metadata": {
    "colab": {
      "provenance": [],
      "include_colab_link": true
    },
    "kernelspec": {
      "name": "python3",
      "display_name": "Python 3"
    },
    "language_info": {
      "name": "python"
    }
  },
  "cells": [
    {
      "cell_type": "markdown",
      "metadata": {
        "id": "view-in-github",
        "colab_type": "text"
      },
      "source": [
        "<a href=\"https://colab.research.google.com/github/JLuceroVasquez/numpy-analisis-numerico-eficiente-con-python/blob/main/Numpy.ipynb\" target=\"_parent\"><img src=\"https://colab.research.google.com/assets/colab-badge.svg\" alt=\"Open In Colab\"/></a>"
      ]
    },
    {
      "cell_type": "markdown",
      "source": [
        "# **Numpy: Análisis numérico eficiente con Python**"
      ],
      "metadata": {
        "id": "gIKzRrVXl_U4"
      }
    },
    {
      "cell_type": "markdown",
      "source": [
        "NumPy es una biblioteca de Python que ofrece diversas herramientas y funcionalidades esenciales para la computación científica, incluyendo objetos de matriz multidimensional conocidos como *arrays*, rutinas para operaciones rápidas en matrizes, además de operaciones matemáticas, manipulación de formas, estadística entre otros. Es ampliamente utilizada en áreas como análisis de datos, procesamiento de señales y aprendizaje de máquina.\n",
        "\n",
        "Para acceder a la documentación de esta biblioteca, puedes hacer clic en el siguiente enlace: https://numpy.org/devdocs/index.html"
      ],
      "metadata": {
        "id": "ELbiOcHFmRA7"
      }
    },
    {
      "cell_type": "code",
      "source": [
        "#Importamos numpy\n",
        "import numpy as np"
      ],
      "metadata": {
        "id": "aS1ry2oIWkI8"
      },
      "execution_count": null,
      "outputs": []
    },
    {
      "cell_type": "markdown",
      "source": [
        "#Importamos los datos"
      ],
      "metadata": {
        "id": "w2JSembO4OYK"
      }
    },
    {
      "cell_type": "markdown",
      "source": [
        "##Importamos los datos desde GitHub\n",
        "Mediante un enlace de un archivo cargado en un repositorio público, se importan los datos en un array de Numpy."
      ],
      "metadata": {
        "id": "_DhdKu-A4Vdp"
      }
    },
    {
      "cell_type": "code",
      "source": [
        "#Asignamos a una variable de alcance global el enlace URL donde se encuentra el archivo con los datos\n",
        "url= 'https://raw.githubusercontent.com/JLuceroVasquez/numpy-analisis-numerico-eficiente-con-python/refs/heads/main/datos-manzanas.csv'"
      ],
      "metadata": {
        "id": "MSCxip_75AYV"
      },
      "execution_count": null,
      "outputs": []
    },
    {
      "cell_type": "code",
      "source": [
        "#En Numpy, es importante asegurar la homogenidad de tipo de datos.\n",
        "#Tras examinar el archivo con los datos, se encontró que la primera columna (cuya posición es n° 0) contiene datos numéricos o datos vacíos.\n",
        "#Por eso, se decidió crear un array de Numpy con el número de columnas que contenga únicamente datos numéricos de tipo float.\n",
        "\n",
        "columna_inicial = 1\n",
        "columna_final = 12*7+3\n",
        "\n",
        "columnas_numericas = np.arange(columna_inicial, columna_final, 1)\n",
        "\n",
        "#Mediante el método \"loadtxt\" cargamos los datos en un array de Numpy.\n",
        "\n",
        "datos = np.loadtxt(url, delimiter=',', usecols=columnas_numericas)"
      ],
      "metadata": {
        "id": "GjNltfl95PH1"
      },
      "execution_count": null,
      "outputs": []
    },
    {
      "cell_type": "markdown",
      "source": [
        "##Importamos los datos desde Google Drive\n",
        "Conectando el cuaderno de GColab a GoogleDrive, y especificando la ruta donde se encuentra el archivo con los datos, se importan los datos en un array de Numpy."
      ],
      "metadata": {
        "id": "MVP9CV9I7FMb"
      }
    },
    {
      "cell_type": "code",
      "source": [
        "#Importamos el módulo de funciones que nos permite conectarnos a nuestra cuenta de Google Drive\n",
        "from google.colab import drive\n",
        "drive.mount('/content/drive')"
      ],
      "metadata": {
        "id": "a4e7ewVI7CUF",
        "outputId": "ed2ead52-5424-4107-8c84-89d3ce442d1b",
        "colab": {
          "base_uri": "https://localhost:8080/"
        }
      },
      "execution_count": null,
      "outputs": [
        {
          "output_type": "stream",
          "name": "stdout",
          "text": [
            "Mounted at /content/drive\n"
          ]
        }
      ]
    },
    {
      "cell_type": "code",
      "source": [
        "#Asignamos a una variable de alcance global la ruta donde se encuentra del archivo de datos en GDrive\n",
        "path = '/content/drive/MyDrive/Aprendizaje-vigente/Programa ONE/Ruta 5 - Aprendiendo a hacer ETL/1-numpy-analisis-numerico-con-python/datos-manzanas.csv'"
      ],
      "metadata": {
        "id": "FWqOusZB8rhx"
      },
      "execution_count": 6,
      "outputs": []
    },
    {
      "cell_type": "code",
      "source": [
        "#Aseguramos la homogeneidad de tipos, limitando el rango de columnas que se cargarán.\n",
        "columna_inicial_2 = 1\n",
        "columna_final_2 = 12*7+3\n",
        "\n",
        "columnas_numericas_2 = np.arange(columna_inicial_2, columna_final_2, 1)\n",
        "\n",
        "#Mediante el método \"loadtxt\" cargamos los datos en un array de Numpy.\n",
        "\n",
        "datos_2 = np.loadtxt(path, delimiter=',', usecols=columnas_numericas_2)"
      ],
      "metadata": {
        "id": "iLHcGz-i823B"
      },
      "execution_count": 8,
      "outputs": []
    }
  ]
}
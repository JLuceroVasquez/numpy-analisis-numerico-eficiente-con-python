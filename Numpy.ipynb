{
  "nbformat": 4,
  "nbformat_minor": 0,
  "metadata": {
    "colab": {
      "provenance": [],
      "include_colab_link": true
    },
    "kernelspec": {
      "name": "python3",
      "display_name": "Python 3"
    },
    "language_info": {
      "name": "python"
    }
  },
  "cells": [
    {
      "cell_type": "markdown",
      "metadata": {
        "id": "view-in-github",
        "colab_type": "text"
      },
      "source": [
        "<a href=\"https://colab.research.google.com/github/JLuceroVasquez/numpy-analisis-numerico-eficiente-con-python/blob/main/Numpy.ipynb\" target=\"_parent\"><img src=\"https://colab.research.google.com/assets/colab-badge.svg\" alt=\"Open In Colab\"/></a>"
      ]
    },
    {
      "cell_type": "markdown",
      "source": [
        "# **Numpy: Análisis numérico eficiente con Python**"
      ],
      "metadata": {
        "id": "gIKzRrVXl_U4"
      }
    },
    {
      "cell_type": "markdown",
      "source": [
        "NumPy es una biblioteca de Python que ofrece diversas herramientas y funcionalidades esenciales para la computación científica, incluyendo objetos de matriz multidimensional conocidos como *arrays*, rutinas para operaciones rápidas en matrizes, además de operaciones matemáticas, manipulación de formas, estadística entre otros. Es ampliamente utilizada en áreas como análisis de datos, procesamiento de señales y aprendizaje de máquina.\n",
        "\n",
        "Para acceder a la documentación de esta biblioteca, puedes hacer clic en el siguiente enlace: https://numpy.org/devdocs/index.html"
      ],
      "metadata": {
        "id": "ELbiOcHFmRA7"
      }
    },
    {
      "cell_type": "code",
      "source": [
        "#Importamos numpy\n",
        "import numpy as np"
      ],
      "metadata": {
        "id": "aS1ry2oIWkI8"
      },
      "execution_count": 2,
      "outputs": []
    },
    {
      "cell_type": "markdown",
      "source": [
        "##Importamos los datos"
      ],
      "metadata": {
        "id": "w2JSembO4OYK"
      }
    },
    {
      "cell_type": "markdown",
      "source": [
        "###Importamos los datos desde GitHub\n",
        "Mediante un enlace de un archivo cargado en un repositorio público, se importan los datos en un array de Numpy."
      ],
      "metadata": {
        "id": "_DhdKu-A4Vdp"
      }
    },
    {
      "cell_type": "code",
      "source": [
        "#Asignamos a una variable de alcance global el enlace URL donde se encuentra el archivo con los datos\n",
        "url= 'https://raw.githubusercontent.com/JLuceroVasquez/numpy-analisis-numerico-eficiente-con-python/refs/heads/main/datos-manzanas.csv'"
      ],
      "metadata": {
        "id": "MSCxip_75AYV"
      },
      "execution_count": 15,
      "outputs": []
    },
    {
      "cell_type": "code",
      "source": [
        "#En Numpy, es importante asegurar la homogenidad de tipo de datos.\n",
        "#Tras examinar el archivo con los datos, se encontró que la primera columna (cuya posición es n° 0) contiene datos numéricos o datos vacíos.\n",
        "#Por eso, se decidió crear un array de Numpy con el número de columnas que contenga únicamente datos numéricos de tipo float.\n",
        "\n",
        "columna_inicial = 1\n",
        "columna_final = 12*7+3\n",
        "\n",
        "columnas_numericas = np.arange(columna_inicial, columna_final, 1)\n",
        "\n",
        "#Mediante el método \"loadtxt\" cargamos los datos en un array de Numpy.\n",
        "\n",
        "datos = np.loadtxt(url, delimiter=',', usecols=columnas_numericas)"
      ],
      "metadata": {
        "id": "GjNltfl95PH1"
      },
      "execution_count": 16,
      "outputs": []
    },
    {
      "cell_type": "markdown",
      "source": [
        "###Importamos los datos desde Google Drive\n",
        "Conectando el cuaderno de GColab a GoogleDrive, y especificando la ruta donde se encuentra el archivo con los datos, se importan los datos en un array de Numpy."
      ],
      "metadata": {
        "id": "MVP9CV9I7FMb"
      }
    },
    {
      "cell_type": "code",
      "source": [
        "#Importamos el módulo de funciones que nos permite conectarnos a nuestra cuenta de Google Drive\n",
        "from google.colab import drive\n",
        "drive.mount('/content/drive')"
      ],
      "metadata": {
        "id": "a4e7ewVI7CUF",
        "outputId": "ed2ead52-5424-4107-8c84-89d3ce442d1b",
        "colab": {
          "base_uri": "https://localhost:8080/"
        }
      },
      "execution_count": null,
      "outputs": [
        {
          "output_type": "stream",
          "name": "stdout",
          "text": [
            "Mounted at /content/drive\n"
          ]
        }
      ]
    },
    {
      "cell_type": "code",
      "source": [
        "#Asignamos a una variable de alcance global la ruta donde se encuentra del archivo de datos en GDrive\n",
        "path = '/content/drive/MyDrive/Aprendizaje-vigente/Programa ONE/Ruta 5 - Aprendiendo a hacer ETL/1-numpy-analisis-numerico-con-python/datos-manzanas.csv'"
      ],
      "metadata": {
        "id": "FWqOusZB8rhx"
      },
      "execution_count": null,
      "outputs": []
    },
    {
      "cell_type": "code",
      "source": [
        "#Aseguramos la homogeneidad de tipos, limitando el rango de columnas que se cargarán.\n",
        "columna_inicial_2 = 1\n",
        "columna_final_2 = 12*7+3\n",
        "\n",
        "columnas_numericas_2 = np.arange(columna_inicial_2, columna_final_2, 1)\n",
        "\n",
        "#Mediante el método \"loadtxt\" cargamos los datos en un array de Numpy.\n",
        "\n",
        "datos_2 = np.loadtxt(path, delimiter=',', usecols=columnas_numericas_2)"
      ],
      "metadata": {
        "id": "iLHcGz-i823B"
      },
      "execution_count": null,
      "outputs": []
    },
    {
      "cell_type": "markdown",
      "source": [
        "##Métodos de arrays\n",
        "Se exploraron los métodos: ndim, shape y transpose."
      ],
      "metadata": {
        "id": "2v20lRpbWkCG"
      }
    },
    {
      "cell_type": "code",
      "source": [
        "#Calculando las dimensiones del array creado.\n",
        "datos.ndim\n",
        "\n",
        "#Calculando la forma del array creado.\n",
        "datos.shape\n",
        "\n",
        "#Transponiendo el array creado.\n",
        "datos_transpuestos = datos.T"
      ],
      "metadata": {
        "id": "hCNZzzG3Pldg"
      },
      "execution_count": 17,
      "outputs": []
    },
    {
      "cell_type": "markdown",
      "source": [
        "##Ejercicios aula 1"
      ],
      "metadata": {
        "id": "tPhH4kYfn_jN"
      }
    },
    {
      "cell_type": "code",
      "source": [
        "#Ejercicio de opción múltiple\n",
        "'''\n",
        "Un colega te pidió que cargues una base de datos y verifiques el número de filas y columnas del archivo cargado.\n",
        "Tenía dudas sobre si se habían cargado todas las filas.\n",
        "¿Cómo determinar las dimensiones correctas de una matriz? Puedes usar la opción skiprows=1 para omitir la primera línea del archivo.\n",
        "'''\n",
        "url_2 = 'https://raw.githubusercontent.com/allanspadini/numpy/dados/bytebank.csv'\n",
        "datos_ejercicio = np.loadtxt(url_2, delimiter = \",\", skiprows= 1, dtype=float)\n",
        "print(f'Las dimensiones del dataset son {datos_ejercicio.ndim}')\n",
        "print(f'La forma del dataset es {datos_ejercicio.shape}')"
      ],
      "metadata": {
        "id": "XkVQoPe6XCTr",
        "outputId": "1202edb8-8bb9-4d1b-f09f-9a129716770a",
        "colab": {
          "base_uri": "https://localhost:8080/"
        }
      },
      "execution_count": 21,
      "outputs": [
        {
          "output_type": "stream",
          "name": "stdout",
          "text": [
            "Las dimensiones del dataset son 2\n",
            "La forma del dataset es (12, 2)\n"
          ]
        }
      ]
    },
    {
      "cell_type": "code",
      "source": [
        "#Ejercicio final del aula\n",
        "'''\n",
        "Vamos a utilizar otro conjunto de datos en un desafío que se desarrollará a lo largo del curso.\n",
        "Este conjunto de datos es una versión modificada del archivo disponible en el sitio de Kaggle.\n",
        "Por lo tanto, utilizaremos el archivo raw disponible en Github.\n",
        "'''\n",
        "#Asignamos la url del proyecto a una variable global\n",
        "url_proyecto = 'https://gist.githubusercontent.com/ahcamachod/9be09de793dc3bf1e6c3d98eb4e5b1ef/raw/21b85572693200040e11284ef6dcfc3457ec8e11/citrus.csv'\n",
        "\n",
        "#Omitimos la primera columna\n",
        "columna_inicial_proyecto = 1\n",
        "columna_final_proyecto = 5+1\n",
        "\n",
        "columnas_numericas_proyecto = np.arange(columna_inicial_proyecto, columna_final_proyecto, 1)\n",
        "\n",
        "#Cargamos el dataset en un array de Numpy\n",
        "datos_proyecto = np.loadtxt(url_proyecto, delimiter = \",\", usecols= columnas_numericas_proyecto, skiprows= 1)"
      ],
      "metadata": {
        "id": "-u8wPXNKYxm8"
      },
      "execution_count": 25,
      "outputs": []
    },
    {
      "cell_type": "code",
      "source": [],
      "metadata": {
        "id": "Edzly-vspUhT"
      },
      "execution_count": null,
      "outputs": []
    }
  ]
}